{
 "cells": [
  {
   "cell_type": "markdown",
   "metadata": {},
   "source": [
    "The tweets in Founta et al. have been classified using the model from Blodgett et al. This assigns each tweet a vector of probabilities corresponding to four different racialized language models. To use this information in the STM I need to convert these probabilities into discrete values. \n",
    "\n",
    "Note that Blodgett et al. warn against using the other and asian categories, so for the topic model I should throw out those not majority white or African-American."
   ]
  },
  {
   "cell_type": "code",
   "execution_count": 18,
   "metadata": {},
   "outputs": [],
   "source": [
    "import pandas as pd"
   ]
  },
  {
   "cell_type": "code",
   "execution_count": 19,
   "metadata": {},
   "outputs": [],
   "source": [
    "df = pd.read_csv('data/founta_race_annotated.csv')"
   ]
  },
  {
   "cell_type": "code",
   "execution_count": 20,
   "metadata": {},
   "outputs": [
    {
     "data": {
      "text/plain": [
       "(91341, 7)"
      ]
     },
     "execution_count": 20,
     "metadata": {},
     "output_type": "execute_result"
    }
   ],
   "source": [
    "df.shape"
   ]
  },
  {
   "cell_type": "code",
   "execution_count": 21,
   "metadata": {},
   "outputs": [
    {
     "data": {
      "text/html": [
       "<div>\n",
       "<style scoped>\n",
       "    .dataframe tbody tr th:only-of-type {\n",
       "        vertical-align: middle;\n",
       "    }\n",
       "\n",
       "    .dataframe tbody tr th {\n",
       "        vertical-align: top;\n",
       "    }\n",
       "\n",
       "    .dataframe thead th {\n",
       "        text-align: right;\n",
       "    }\n",
       "</style>\n",
       "<table border=\"1\" class=\"dataframe\">\n",
       "  <thead>\n",
       "    <tr style=\"text-align: right;\">\n",
       "      <th></th>\n",
       "      <th>id</th>\n",
       "      <th>text</th>\n",
       "      <th>label</th>\n",
       "      <th>afam</th>\n",
       "      <th>hisp</th>\n",
       "      <th>asian</th>\n",
       "      <th>white</th>\n",
       "    </tr>\n",
       "  </thead>\n",
       "  <tbody>\n",
       "    <tr>\n",
       "      <th>0</th>\n",
       "      <td>0</td>\n",
       "      <td>Beats by Dr. Dre urBeats Wired In-Ear Headphon...</td>\n",
       "      <td>spam</td>\n",
       "      <td>0.379062</td>\n",
       "      <td>0.222205</td>\n",
       "      <td>0.193619</td>\n",
       "      <td>0.205114</td>\n",
       "    </tr>\n",
       "    <tr>\n",
       "      <th>1</th>\n",
       "      <td>1</td>\n",
       "      <td>RT @Papapishu: Man it would fucking rule if we...</td>\n",
       "      <td>abusive</td>\n",
       "      <td>0.187467</td>\n",
       "      <td>0.187928</td>\n",
       "      <td>0.118104</td>\n",
       "      <td>0.506501</td>\n",
       "    </tr>\n",
       "    <tr>\n",
       "      <th>2</th>\n",
       "      <td>2</td>\n",
       "      <td>It is time to draw close to Him &amp;#128591;&amp;#127...</td>\n",
       "      <td>neither</td>\n",
       "      <td>0.223829</td>\n",
       "      <td>0.480416</td>\n",
       "      <td>0.013496</td>\n",
       "      <td>0.282260</td>\n",
       "    </tr>\n",
       "    <tr>\n",
       "      <th>3</th>\n",
       "      <td>3</td>\n",
       "      <td>if you notice me start to act different or dis...</td>\n",
       "      <td>neither</td>\n",
       "      <td>0.466657</td>\n",
       "      <td>0.331978</td>\n",
       "      <td>0.007351</td>\n",
       "      <td>0.194014</td>\n",
       "    </tr>\n",
       "    <tr>\n",
       "      <th>4</th>\n",
       "      <td>4</td>\n",
       "      <td>Forget unfollowers, I believe in growing. 7 ne...</td>\n",
       "      <td>neither</td>\n",
       "      <td>0.106735</td>\n",
       "      <td>0.186906</td>\n",
       "      <td>0.089628</td>\n",
       "      <td>0.616732</td>\n",
       "    </tr>\n",
       "  </tbody>\n",
       "</table>\n",
       "</div>"
      ],
      "text/plain": [
       "   id                                               text    label      afam  \\\n",
       "0   0  Beats by Dr. Dre urBeats Wired In-Ear Headphon...     spam  0.379062   \n",
       "1   1  RT @Papapishu: Man it would fucking rule if we...  abusive  0.187467   \n",
       "2   2  It is time to draw close to Him &#128591;&#127...  neither  0.223829   \n",
       "3   3  if you notice me start to act different or dis...  neither  0.466657   \n",
       "4   4  Forget unfollowers, I believe in growing. 7 ne...  neither  0.106735   \n",
       "\n",
       "       hisp     asian     white  \n",
       "0  0.222205  0.193619  0.205114  \n",
       "1  0.187928  0.118104  0.506501  \n",
       "2  0.480416  0.013496  0.282260  \n",
       "3  0.331978  0.007351  0.194014  \n",
       "4  0.186906  0.089628  0.616732  "
      ]
     },
     "execution_count": 21,
     "metadata": {},
     "output_type": "execute_result"
    }
   ],
   "source": [
    "df.head()\n"
   ]
  },
  {
   "cell_type": "markdown",
   "metadata": {},
   "source": [
    "Note some columns have values of -9. This indicates that no remaining words were present after tokenization using the Blodgett algorithm. These should be dropped from the analysis."
   ]
  },
  {
   "cell_type": "code",
   "execution_count": 49,
   "metadata": {},
   "outputs": [],
   "source": [
    "def getHighestProbAndThreshold(df, threshold=.6):\n",
    "    race_cats = ['afam', 'hisp', 'asian', 'white']\n",
    "    max_race = []\n",
    "    max_vals = []\n",
    "    threshold_met = []\n",
    "    for _, r in df.iterrows():\n",
    "        values = [float(r['afam']), float(r['hisp']), float(r['asian']), float(r['white'])]\n",
    "        max_val = max(values)\n",
    "        max_idx = values.index(max_val)\n",
    "        max_race.append(race_cats[max_idx])\n",
    "        max_vals.append(max_val)\n",
    "        if max_val >= threshold:\n",
    "            threshold_met.append(True)\n",
    "        else:\n",
    "            threshold_met.append(False)\n",
    "    df['max_race'] = max_race\n",
    "    df['max_vals'] = max_vals\n",
    "    df['threshold_met'] = threshold_met\n",
    "    return(df)"
   ]
  },
  {
   "cell_type": "code",
   "execution_count": 50,
   "metadata": {},
   "outputs": [],
   "source": [
    "df = getHighestProbAndThreshold(df)"
   ]
  },
  {
   "cell_type": "code",
   "execution_count": 51,
   "metadata": {},
   "outputs": [
    {
     "data": {
      "text/html": [
       "<div>\n",
       "<style scoped>\n",
       "    .dataframe tbody tr th:only-of-type {\n",
       "        vertical-align: middle;\n",
       "    }\n",
       "\n",
       "    .dataframe tbody tr th {\n",
       "        vertical-align: top;\n",
       "    }\n",
       "\n",
       "    .dataframe thead th {\n",
       "        text-align: right;\n",
       "    }\n",
       "</style>\n",
       "<table border=\"1\" class=\"dataframe\">\n",
       "  <thead>\n",
       "    <tr style=\"text-align: right;\">\n",
       "      <th></th>\n",
       "      <th>id</th>\n",
       "      <th>text</th>\n",
       "      <th>label</th>\n",
       "      <th>afam</th>\n",
       "      <th>hisp</th>\n",
       "      <th>asian</th>\n",
       "      <th>white</th>\n",
       "      <th>max_race</th>\n",
       "      <th>max_vals</th>\n",
       "      <th>threshold_met</th>\n",
       "    </tr>\n",
       "  </thead>\n",
       "  <tbody>\n",
       "    <tr>\n",
       "      <th>91336</th>\n",
       "      <td>99991</td>\n",
       "      <td>RT @shangros: my fucking queen https://t.co/wa...</td>\n",
       "      <td>abusive</td>\n",
       "      <td>0.216189</td>\n",
       "      <td>0.305741</td>\n",
       "      <td>0.289655</td>\n",
       "      <td>0.188415</td>\n",
       "      <td>hisp</td>\n",
       "      <td>0.305741</td>\n",
       "      <td>False</td>\n",
       "    </tr>\n",
       "    <tr>\n",
       "      <th>91337</th>\n",
       "      <td>99992</td>\n",
       "      <td>#Osteporosis treated with #PEMF - rebuild bone...</td>\n",
       "      <td>neither</td>\n",
       "      <td>0.218286</td>\n",
       "      <td>0.215283</td>\n",
       "      <td>0.183034</td>\n",
       "      <td>0.383396</td>\n",
       "      <td>white</td>\n",
       "      <td>0.383396</td>\n",
       "      <td>False</td>\n",
       "    </tr>\n",
       "    <tr>\n",
       "      <th>91338</th>\n",
       "      <td>99993</td>\n",
       "      <td>@LGUSAMobile why does my phone screen keeps fl...</td>\n",
       "      <td>neither</td>\n",
       "      <td>0.287190</td>\n",
       "      <td>0.459262</td>\n",
       "      <td>0.008520</td>\n",
       "      <td>0.245029</td>\n",
       "      <td>hisp</td>\n",
       "      <td>0.459262</td>\n",
       "      <td>False</td>\n",
       "    </tr>\n",
       "    <tr>\n",
       "      <th>91339</th>\n",
       "      <td>99994</td>\n",
       "      <td>#bigdata vs. #reality ... but equally applies ...</td>\n",
       "      <td>neither</td>\n",
       "      <td>0.098390</td>\n",
       "      <td>0.141443</td>\n",
       "      <td>0.219687</td>\n",
       "      <td>0.540480</td>\n",
       "      <td>white</td>\n",
       "      <td>0.540480</td>\n",
       "      <td>False</td>\n",
       "    </tr>\n",
       "    <tr>\n",
       "      <th>91340</th>\n",
       "      <td>99995</td>\n",
       "      <td>you can do whatever you choose, if you first g...</td>\n",
       "      <td>neither</td>\n",
       "      <td>0.082188</td>\n",
       "      <td>0.306929</td>\n",
       "      <td>0.003522</td>\n",
       "      <td>0.607361</td>\n",
       "      <td>white</td>\n",
       "      <td>0.607361</td>\n",
       "      <td>True</td>\n",
       "    </tr>\n",
       "  </tbody>\n",
       "</table>\n",
       "</div>"
      ],
      "text/plain": [
       "          id                                               text    label  \\\n",
       "91336  99991  RT @shangros: my fucking queen https://t.co/wa...  abusive   \n",
       "91337  99992  #Osteporosis treated with #PEMF - rebuild bone...  neither   \n",
       "91338  99993  @LGUSAMobile why does my phone screen keeps fl...  neither   \n",
       "91339  99994  #bigdata vs. #reality ... but equally applies ...  neither   \n",
       "91340  99995  you can do whatever you choose, if you first g...  neither   \n",
       "\n",
       "           afam      hisp     asian     white max_race  max_vals  \\\n",
       "91336  0.216189  0.305741  0.289655  0.188415     hisp  0.305741   \n",
       "91337  0.218286  0.215283  0.183034  0.383396    white  0.383396   \n",
       "91338  0.287190  0.459262  0.008520  0.245029     hisp  0.459262   \n",
       "91339  0.098390  0.141443  0.219687  0.540480    white  0.540480   \n",
       "91340  0.082188  0.306929  0.003522  0.607361    white  0.607361   \n",
       "\n",
       "       threshold_met  \n",
       "91336          False  \n",
       "91337          False  \n",
       "91338          False  \n",
       "91339          False  \n",
       "91340           True  "
      ]
     },
     "execution_count": 51,
     "metadata": {},
     "output_type": "execute_result"
    }
   ],
   "source": [
    "df.tail()"
   ]
  },
  {
   "cell_type": "code",
   "execution_count": 57,
   "metadata": {},
   "outputs": [
    {
     "data": {
      "text/plain": [
       "Counter({'white': 52143, 'hisp': 9584, 'afam': 8583, 'asian': 6839})"
      ]
     },
     "execution_count": 57,
     "metadata": {},
     "output_type": "execute_result"
    }
   ],
   "source": [
    "from collections import Counter\n",
    "Counter(df.query('label != \"spam\" and afam != -9')['max_race'])"
   ]
  },
  {
   "cell_type": "code",
   "execution_count": 53,
   "metadata": {},
   "outputs": [
    {
     "data": {
      "text/plain": [
       "(91341, 10)"
      ]
     },
     "execution_count": 53,
     "metadata": {},
     "output_type": "execute_result"
    }
   ],
   "source": [
    "df.shape"
   ]
  },
  {
   "cell_type": "code",
   "execution_count": 54,
   "metadata": {},
   "outputs": [
    {
     "data": {
      "text/plain": [
       "(22967, 10)"
      ]
     },
     "execution_count": 54,
     "metadata": {},
     "output_type": "execute_result"
    }
   ],
   "source": [
    "df.query('threshold_met').shape"
   ]
  },
  {
   "cell_type": "code",
   "execution_count": 58,
   "metadata": {},
   "outputs": [
    {
     "data": {
      "text/plain": [
       "(647, 10)"
      ]
     },
     "execution_count": 58,
     "metadata": {},
     "output_type": "execute_result"
    }
   ],
   "source": [
    "df.query('afam == -9').shape"
   ]
  },
  {
   "cell_type": "code",
   "execution_count": 59,
   "metadata": {},
   "outputs": [],
   "source": [
    "df.to_csv('data/founta_race_annotated_2.csv')"
   ]
  },
  {
   "cell_type": "code",
   "execution_count": null,
   "metadata": {},
   "outputs": [],
   "source": []
  }
 ],
 "metadata": {
  "kernelspec": {
   "display_name": "Python 3",
   "language": "python",
   "name": "python3"
  },
  "language_info": {
   "codemirror_mode": {
    "name": "ipython",
    "version": 3
   },
   "file_extension": ".py",
   "mimetype": "text/x-python",
   "name": "python",
   "nbconvert_exporter": "python",
   "pygments_lexer": "ipython3",
   "version": "3.6.8"
  }
 },
 "nbformat": 4,
 "nbformat_minor": 2
}
